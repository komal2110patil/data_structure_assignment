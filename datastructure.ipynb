{
 "cells": [
  {
   "cell_type": "code",
   "execution_count": 1,
   "id": "c0ae95c3-d49a-41a3-a9f5-7fffdab026f3",
   "metadata": {},
   "outputs": [],
   "source": [
    "#read the datastructur"
   ]
  },
  {
   "cell_type": "code",
   "execution_count": 2,
   "id": "06e85ff9-54a9-49a9-8110-66c5839e3303",
   "metadata": {},
   "outputs": [],
   "source": [
    "#[Q1]. write a code to reverse a string\n",
    "#s = \" \"\n",
    "#reverse_string = s[::-1]"
   ]
  },
  {
   "cell_type": "code",
   "execution_count": 3,
   "id": "208d0c03-06a4-4cb4-8e36-a3cdb6c9da25",
   "metadata": {},
   "outputs": [],
   "source": [
    "#[Q2]. write a code to count the number of vowels in a string ?\n",
    "# count_vowels = 0\n",
    "# variable = input (\"enter any string value : \")\n",
    "# vowels = 'AEIOUaeiou'\n",
    "# for i in variable:\n",
    "# if i in vowels:\n",
    "# count_vowels += 1\n",
    "# print(\"count_vowels\", count_vowels"
   ]
  },
  {
   "cell_type": "code",
   "execution_count": 4,
   "id": "a10cd6d8-99d9-46dc-8867-dc7a647205df",
   "metadata": {},
   "outputs": [],
   "source": [
    "# [Q3]. write[ a code to check if a given string is palindrome or not?\n",
    "# a = input(\"enter string: \")\n",
    "# b = a[-1::-1]\n",
    "# if a == b:\n",
    "# print(\"palindrome\")\n",
    "# else:\n",
    "# print(\"not palindrome\")"
   ]
  },
  {
   "cell_type": "code",
   "execution_count": 5,
   "id": "15e662dc-1c68-45b2-9175-3cafe0f81ee9",
   "metadata": {},
   "outputs": [],
   "source": [
    "# [Q4]. write a code to check if two given strings are anagrams of each other\n",
    "# str1 = input(\"string1:\")\n",
    "# sre2 = input(\"string2:\")\n",
    "# sorted_str1 = sorted(str1)\n",
    "# sorted_str2 = sorted(str2)\n",
    "# if sorted_str1 == sorted_str2:\n",
    "# print(\"given strings are anagrams\")\n",
    "# else:\n",
    "# print(\"not\")"
   ]
  },
  {
   "cell_type": "code",
   "execution_count": 7,
   "id": "b05b0c10-45c2-41c9-96a3-56b92272a8fe",
   "metadata": {},
   "outputs": [],
   "source": [
    "# [Q5]. write a code to find all occurences of given substrings within␣\n",
    "#another␣string\n",
    "# my_string = \"this is python programming\"\n",
    "# sub_string = \"python\"\n",
    "# if sub_string in my_string:\n",
    "# print(\"sub_string is present\")\n",
    "# else:\n",
    "# print(\"not\")"
   ]
  },
  {
   "cell_type": "code",
   "execution_count": 8,
   "id": "9b40b5ec-4d02-4f19-ac64-f3a642b1bcbb",
   "metadata": {},
   "outputs": [],
   "source": [
    "# [Q6]. write a code to perform basic string compression using the counts of␣␣\n",
    "#repeated characters\n",
    "# string = input(\"nter a string: \")\n",
    "# lst = []\n",
    "# for data in string :\n",
    "# if data not in lst:\n",
    "# lst.append(data)\n",
    "# for char in lst:\n",
    "# print(char, \" \", string.count(char), \"items\")"
   ]
  },
  {
   "cell_type": "code",
   "execution_count": 9,
   "id": "c00c53c6-dce4-4545-8ecd-ab39ee2067ab",
   "metadata": {},
   "outputs": [],
   "source": [
    "# [Q7]. write a code to determine if a string has all unique characters.\n",
    "# def isUniqueChars2(string):\n",
    "# uchars = []\n",
    "# for c in string:\n",
    "# if c in uchars:\n",
    "# return False\n",
    "# else:\n",
    "# uchars.append(c)\n",
    "# return True"
   ]
  },
  {
   "cell_type": "code",
   "execution_count": 10,
   "id": "48e2546e-2c52-4754-9677-3161445f9644",
   "metadata": {},
   "outputs": [],
   "source": [
    "# [Q8]. write a code to convert a given string to uppercase or lowercase\n",
    "# text = \" \"\n",
    "# text.upper()\n",
    "# text,lower()"
   ]
  },
  {
   "cell_type": "code",
   "execution_count": 11,
   "id": "08486145-1336-4006-a367-0fe3812b850c",
   "metadata": {},
   "outputs": [],
   "source": [
    "# [Q9]. write a code to count the no of words in a string\n",
    "# s = \"this is pen\"\n",
    "# len(s)\n"
   ]
  },
  {
   "cell_type": "code",
   "execution_count": 12,
   "id": "547c7147-303b-429b-b697-39f9bd4a74a8",
   "metadata": {},
   "outputs": [],
   "source": [
    " # [Q10]. write a code to concatenate two string without using + operator\n",
    "# int main():\n",
    "# {\n",
    "# int l1,l2,i;\n",
    "# char s1[6] = \"Jenny\"\n",
    "# char s2[] = \"Khatri\"\n",
    "# l1 = str len(s1);\n",
    "# l2 = str len(s2);\n",
    "# for(i=0; i<=12; i++)\n",
    "# {\n",
    "# s1[l1+i] = s2[i];\n",
    "# }\n",
    "# print f(\"string after concatenation is : %s\\n \", s1);\n",
    "# puts(s2);\n",
    "# }"
   ]
  },
  {
   "cell_type": "code",
   "execution_count": 14,
   "id": "d5df85d3-12c3-4c09-9ef7-fbeb4ab99d25",
   "metadata": {},
   "outputs": [],
   "source": [
    " # [Q11]. write a code to remove all occurences of a specific element from a␣\n",
    "#list.\n",
    "# sample_list = [10,20,30,40,50,60,70]\n",
    "# value = 30\n",
    "# sample_list.remove(value)\n",
    "# print(sample_list)"
   ]
  },
  {
   "cell_type": "code",
   "execution_count": 15,
   "id": "7009982b-bd56-449a-ac63-9245b05dd8cc",
   "metadata": {},
   "outputs": [],
   "source": [
    "# [12]. implement a code to find second largest number in agiven list of␣\n",
    "#integers\n",
    "# lis_of_integers = []\n",
    "# list.sort()\n",
    "# print(list_of_integers)\n",
    "# print(\"second largest number is : \", list_of_integers[-2])"
   ]
  },
  {
   "cell_type": "code",
   "execution_count": 16,
   "id": "5d6e1429-0f59-4ec9-be2a-57a8ccf8fb69",
   "metadata": {},
   "outputs": [],
   "source": [
    "# [Q13]. create a code to count occurence of each element in alist and returns␣\n",
    "#a dictionary with elements as keys and theirs counts as values\n",
    "# my_list = []\n",
    "# freq = { element: my_list.count(element) for element in my_list}\n",
    "# print(freq)\n"
   ]
  },
  {
   "cell_type": "code",
   "execution_count": 17,
   "id": "3d81f562-5725-49ce-974e-345ad26e373d",
   "metadata": {},
   "outputs": [],
   "source": [
    "#[Q14] write a code to reverse a list in-place without using any in-built␣\n",
    "#functions.\n",
    "# lst []\n",
    "# rev_lst = []\n",
    "# print(\"before reversing: \", lst)\n",
    "# for i in range(len(lst)-1,-1,-1):\n",
    "# rev_lst.append(lst[i])\n",
    "# print(\"after reversing: \", rev_lst)"
   ]
  },
  {
   "cell_type": "code",
   "execution_count": 18,
   "id": "450110ef-783b-439c-9fae-2c4db4aef1a2",
   "metadata": {},
   "outputs": [],
   "source": [
    "#[Q15] impliment a code to find and remove duplicates from a list while␣\n",
    "#preserving the original order of elemeents.\n",
    "# lst = []\n",
    "# result = []\n",
    "# for i not in result:\n",
    "# result.append(i)\n",
    "# print(result)\n"
   ]
  },
  {
   "cell_type": "code",
   "execution_count": null,
   "id": "a9a28487-2ea1-4117-8324-d961df644140",
   "metadata": {},
   "outputs": [],
   "source": []
  }
 ],
 "metadata": {
  "kernelspec": {
   "display_name": "Python 3 (ipykernel)",
   "language": "python",
   "name": "python3"
  },
  "language_info": {
   "codemirror_mode": {
    "name": "ipython",
    "version": 3
   },
   "file_extension": ".py",
   "mimetype": "text/x-python",
   "name": "python",
   "nbconvert_exporter": "python",
   "pygments_lexer": "ipython3",
   "version": "3.10.8"
  }
 },
 "nbformat": 4,
 "nbformat_minor": 5
}
