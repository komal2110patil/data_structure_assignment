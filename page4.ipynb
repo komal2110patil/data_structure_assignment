{
 "cells": [
  {
   "cell_type": "code",
   "execution_count": 1,
   "id": "7ee1d8b9-6eb2-4dc3-b408-c880cc955f03",
   "metadata": {},
   "outputs": [],
   "source": [
    "#[Q31] write a code that takes a list of words as input and returns a␣\n",
    "#dictionary where the key are unique words and the values are frequencies of␣\n",
    "#those\n",
    "#words in the input list\n",
    "# list_of_words = input(\"enter no of words: \")\n",
    "# l = []\n",
    "# l = list_of_words.split()\n",
    "# wordfreq = [1.count(k) for k in l]\n",
    "# print(dict(zip(1,wordfreq)))"
   ]
  },
  {
   "cell_type": "code",
   "execution_count": 2,
   "id": "c1fbaa08-8128-470f-9cb3-00f10cb8d495",
   "metadata": {},
   "outputs": [],
   "source": [
    "#[Q32] write a code that two dictionaries as input and merge them into a single␣\n",
    "#dictionary if there are common keys the values should\n",
    "#be added together.\n",
    "# class_dict1 = {}\n",
    "# class_dict2 = {}\n",
    "# key1 = int(input(\"give a integer as first key: \"))\n",
    "# key2 = int(input(\"give an integer as second key: \"))\n",
    "# value1 = input(\"enter first value: \")\n",
    "# value2 = input(\"enter second value: \")\n",
    "# class_dict1[key1] = value1\n",
    "# class_dict2[key2] = value2\n",
    "# def merge_dictionaries(x,y):\n",
    "# z = {**x, **y}\n",
    "# print(\"the merge dictionary is : \")\n",
    "# return z\n",
    "# print(merge_dictionaries(class_1, class_2))"
   ]
  },
  {
   "cell_type": "code",
   "execution_count": 3,
   "id": "5f9f8bc8-7e29-420f-a6f6-f6ba4aa797f7",
   "metadata": {},
   "outputs": [],
   "source": [
    "#[Q33] write a code to access a value in a nested dictionary .the function␣\n",
    "#should take the dictionary and a list of keys as input and return\n",
    "#corresponding value . if any of the keys do not exist in the dictionary the␣\n",
    "#function should return none.\n",
    "# def run():\n",
    "# dict_keys = ['product', 'brand', 'cost']\n",
    "# products = []\n",
    "# while True:\n",
    "# product = {}\n",
    "# for key in dict_keys:\n",
    "# val = input(f\"enter{key}: \")\n",
    "# if val == \"stop\":\n",
    "# return products\n",
    "# product[key] = val\n",
    "# product.append(product)\n",
    "# my_products = run()\n",
    "# print(my_products)\n",
    "# eye_color = my_products.get(eye_color)\n",
    "# if eye_color is none:\n",
    "# print(\"the key 'eye_color' does not exist in the dictionar"
   ]
  },
  {
   "cell_type": "code",
   "execution_count": 4,
   "id": "2cccf9e9-d45f-4c61-9a15-be6cfb3637a9",
   "metadata": {},
   "outputs": [],
   "source": [
    "#[Q34] write a code that takes a dictionary as input and return sorted version␣\n",
    "#of it based on the values you can choose weather to sort\n",
    "#in ascending or descending order\n",
    "# d = {}\n",
    "# n = int(input(\"enter no of elements: \"))\n",
    "# for i in range (n):\n",
    "# key = input(\"enter key: \")\n",
    "# value = input(\"enter value: \")\n",
    "# d(key) = value\n",
    "# print(d)\n",
    "# {k:v for k, v in sorted(x.items(), key = lambda item : item[]}"
   ]
  },
  {
   "cell_type": "code",
   "execution_count": null,
   "id": "e62ad092-0c28-418c-976b-f1b9b277f785",
   "metadata": {},
   "outputs": [],
   "source": [
    "#[Q35] write a code that inverts a dictionary, swapping keys and values ensure␣\n",
    "#that the the inverted dictionary correctly\n",
    "#handles cases whwere multiple keys have the same value by sorting the keys as␣\n",
    "#a list in the inverted list.\n",
    "# my_map = {}\n",
    "# inv_map = {v:k for k, v in my_map.items()}\n",
    "# for k, v in my_lap.iteritems():\n",
    "# inv_map[v] = inv_map.get(v[])+[k]"
   ]
  }
 ],
 "metadata": {
  "kernelspec": {
   "display_name": "Python 3 (ipykernel)",
   "language": "python",
   "name": "python3"
  },
  "language_info": {
   "codemirror_mode": {
    "name": "ipython",
    "version": 3
   },
   "file_extension": ".py",
   "mimetype": "text/x-python",
   "name": "python",
   "nbconvert_exporter": "python",
   "pygments_lexer": "ipython3",
   "version": "3.10.8"
  }
 },
 "nbformat": 4,
 "nbformat_minor": 5
}
