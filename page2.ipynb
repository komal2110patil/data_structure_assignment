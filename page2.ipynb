{
 "cells": [
  {
   "cell_type": "code",
   "execution_count": 1,
   "id": "b92ee59a-39ab-42fe-99ad-94d5631e526d",
   "metadata": {},
   "outputs": [],
   "source": [
    "#[Q16] create a code to check if a given list is sorted (either in ascending or␣\n",
    "#descending order) or not\n",
    "# lst = []\n",
    "# lst.sort()\n",
    "# print(lst)\n",
    "# lst.reverse()"
   ]
  },
  {
   "cell_type": "code",
   "execution_count": 2,
   "id": "027bd919-6072-41cb-a6a9-f17749a1e185",
   "metadata": {},
   "outputs": [],
   "source": [
    "#[Q17] write a code to merge two sorted list into a single sorted list.\n",
    "# l1 = []\n",
    "# l2 = []\n",
    "# l1.extend(l2)\n",
    "# l1.sort()"
   ]
  },
  {
   "cell_type": "code",
   "execution_count": 3,
   "id": "ea1cf7c5-0ce9-457c-9b9f-7585ad154f6c",
   "metadata": {},
   "outputs": [],
   "source": [
    "#[Q18] implement a code to find the intersection of two given lists.\n",
    "# l1 = []\n",
    "# l2 = []\n",
    "# intersection_list = []\n",
    "# for i in l1:\n",
    "# if i in l2:\n",
    "# intersection_list,append(i)\n",
    "# print(intersection_list)"
   ]
  },
  {
   "cell_type": "code",
   "execution_count": 4,
   "id": "cd910d0d-61d0-499e-b127-e909612dc95f",
   "metadata": {},
   "outputs": [],
   "source": [
    "#[Q19]. create a code to find union of two lists without duplicate,\n",
    "# l1 = []\n",
    "# l2 = []\n",
    "# union_result = list(set(l1+l2))\n",
    "# print(union_result)"
   ]
  },
  {
   "cell_type": "code",
   "execution_count": 6,
   "id": "ea4d6c3a-1c06-4ab9-bdba-546a7b719d75",
   "metadata": {},
   "outputs": [],
   "source": [
    "#[Q20] write a code to shuffle a given list randomly without using any␣\n",
    "#in-built shuffle functions.\n",
    "# import random\n",
    "# lst = []\n",
    "# random.shuffle(lst)\n",
    "# print(lst)"
   ]
  },
  {
   "cell_type": "code",
   "execution_count": 7,
   "id": "6afb2373-272c-494b-b8aa-c989492040cd",
   "metadata": {},
   "outputs": [],
   "source": [
    "#[Q21] create a code that takes two tuples as input and returns a new tuple␣\n",
    "#containing element that are common to both input tuples.\n",
    "# tuple1 = eval(input(\"enter elements of 1st tuple: \"))\n",
    "# tuple2 = eval(input(\"enter elements of 2nd tuple: \"))\n",
    "# def commonelements(tuple1, tuple2):\n",
    "# tuple1 = sorted(tuple1)\n",
    "# tuple2 = sorted(tuple2)\n",
    "# for i in tuple1:\n",
    "# for j in tuple2:\n",
    "# if i == j:\n",
    "# t3.add(i)\n",
    "# return t3\n",
    "# print(commomelement(tuple1, tuple2)"
   ]
  },
  {
   "cell_type": "code",
   "execution_count": 8,
   "id": "8d799989-abb7-4f12-aecc-03dfda1f3d4d",
   "metadata": {},
   "outputs": [],
   "source": [
    "#[Q22] create a code that prompts the user to enter two sets of integers␣\n",
    "#seperatedly by commas then print the intersection of these two sets\n",
    "# a, b = [int(x) for x in input(\"enter two values\\n\").split(',')]\n",
    "# print(\"\\nThe value of a is {} and b is {}\".format(a, b))\n",
    "# c = a&b\n",
    "# print(c)\n"
   ]
  },
  {
   "cell_type": "code",
   "execution_count": 9,
   "id": "a7853769-5dbb-44c1-aea6-21dcf8e5d399",
   "metadata": {},
   "outputs": [],
   "source": [
    "#[Q23] write a code to concatenate two tuples the function should take two␣\n",
    "#tuples as input and return a new tuple containing element\n",
    "#from both input tuple\n",
    "# t1 = eval(input(\"enter elemet of first tuple: \"))\n",
    "# t2 = eval(input(\"enter element of second tuple: \"))\n",
    "# t3 = (t1+t2)\n",
    "# print(t3)\n"
   ]
  },
  {
   "cell_type": "code",
   "execution_count": null,
   "id": "e14f49de-6948-4c64-96f7-b2a920ce41c7",
   "metadata": {},
   "outputs": [],
   "source": []
  }
 ],
 "metadata": {
  "kernelspec": {
   "display_name": "Python 3 (ipykernel)",
   "language": "python",
   "name": "python3"
  },
  "language_info": {
   "codemirror_mode": {
    "name": "ipython",
    "version": 3
   },
   "file_extension": ".py",
   "mimetype": "text/x-python",
   "name": "python",
   "nbconvert_exporter": "python",
   "pygments_lexer": "ipython3",
   "version": "3.10.8"
  }
 },
 "nbformat": 4,
 "nbformat_minor": 5
}
