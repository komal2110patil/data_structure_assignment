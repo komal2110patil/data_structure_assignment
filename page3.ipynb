{
 "cells": [
  {
   "cell_type": "code",
   "execution_count": 1,
   "id": "01f117b9-13a6-42f7-8b4c-717e86709647",
   "metadata": {},
   "outputs": [],
   "source": [
    "#[Q24] develop a code that prompts the user to input two sets of strings then␣\n",
    "#print the element that are present in\n",
    "# in the first set but not in the second set .\n",
    "# s1 = {}\n",
    "# s2 = {}\n",
    "# print(\"difference of s1 and s2\", s1-s2)\n"
   ]
  },
  {
   "cell_type": "code",
   "execution_count": 2,
   "id": "d789ce90-f0df-4c85-b1a0-caa805fab130",
   "metadata": {},
   "outputs": [],
   "source": [
    "#[Q25] create a code that takes a tuple and two integers as input .the␣\n",
    "#function should return a new tuple containing elements\n",
    "# from the original tuple within the specified range of indices.\n",
    "# t = ((1,2,3),2,4)\n",
    "# def apped(t, value):\n",
    "# # return(t+value, value+t)"
   ]
  },
  {
   "cell_type": "code",
   "execution_count": 3,
   "id": "04f887a9-d418-476e-a323-78f741d416b3",
   "metadata": {},
   "outputs": [],
   "source": [
    "#[Q26] write a code that prompts the user to input two sets of characters then␣\n",
    "#print the union of these two sets.\n",
    "# s1 = eval(input(\"enter 1st set of characters: \"))\n",
    "# s2 = eval(input(\"enter 2nd set of characters: \"))\n",
    "# set1 = set(s1)\n",
    "# set2 = set(s2)\n",
    "# set1|set2"
   ]
  },
  {
   "cell_type": "code",
   "execution_count": 4,
   "id": "f48a53b0-6f94-4e8c-83b7-c719e2c5075d",
   "metadata": {},
   "outputs": [],
   "source": [
    "#[Q27] develop a code that takes a tuple of integer as input .the function␣\n",
    "#should return maximum and minimum values from\n",
    "#the tuple using tuple unpacking\n",
    "# tup = ()\n",
    "# n = int(input(\"enter no of element you want to enter : \"))\n",
    "# for x in range(n):\n",
    "# tup += (int(input(\"enter element: \"))\n",
    "# print(tup)\n",
    "# print(max(tup), min(tup))"
   ]
  },
  {
   "cell_type": "code",
   "execution_count": 5,
   "id": "8d96c39a-0da0-4816-8e89-f9e1200c980c",
   "metadata": {},
   "outputs": [],
   "source": [
    "#[Q28] create a code that defines two sets of integers then print the union,␣\n",
    "#intersection and difference of these two sets.\n",
    "# s1 = {}\n",
    "# s2 = {}\n",
    "# s1|s2\n",
    "# s1&s2\n",
    "# s1-s2"
   ]
  },
  {
   "cell_type": "code",
   "execution_count": 6,
   "id": "b9eb43df-734e-45bf-a50a-cfc7a1948e3c",
   "metadata": {},
   "outputs": [],
   "source": [
    "#[Q29] write a code that takes a tuple and an element as input . the function␣\n",
    "#should return the count of occurence of the given element\n",
    "#in the tuple\n",
    "# t = ()\n",
    "# count_of_t = t.count()"
   ]
  },
  {
   "cell_type": "code",
   "execution_count": 7,
   "id": "7e038ab8-ddc7-427f-9e00-4ad9bb59a99e",
   "metadata": {},
   "outputs": [],
   "source": [
    "#[Q30] develop a code that promps the user to input two sets of string then␣\n",
    "#print the symmetric difference of these two sets\n",
    "# s1 = eval(input(\"enter first string: \"))\n",
    "# s2 = eval(input(\"enter second string: \"))\n",
    "# set1 = set(s1)\n",
    "# set2 = set(s2)\n",
    "# set1-set2"
   ]
  },
  {
   "cell_type": "code",
   "execution_count": null,
   "id": "61273d7d-6fdb-4408-a6b5-4abec4cf246c",
   "metadata": {},
   "outputs": [],
   "source": []
  }
 ],
 "metadata": {
  "kernelspec": {
   "display_name": "Python 3 (ipykernel)",
   "language": "python",
   "name": "python3"
  },
  "language_info": {
   "codemirror_mode": {
    "name": "ipython",
    "version": 3
   },
   "file_extension": ".py",
   "mimetype": "text/x-python",
   "name": "python",
   "nbconvert_exporter": "python",
   "pygments_lexer": "ipython3",
   "version": "3.10.8"
  }
 },
 "nbformat": 4,
 "nbformat_minor": 5
}
