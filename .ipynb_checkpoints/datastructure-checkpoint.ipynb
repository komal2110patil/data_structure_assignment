{
 "cells": [
  {
   "cell_type": "code",
   "execution_count": 1,
   "id": "c0ae95c3-d49a-41a3-a9f5-7fffdab026f3",
   "metadata": {},
   "outputs": [],
   "source": [
    "#read the datastructur"
   ]
  },
  {
   "cell_type": "code",
   "execution_count": 2,
   "id": "06e85ff9-54a9-49a9-8110-66c5839e3303",
   "metadata": {},
   "outputs": [],
   "source": [
    "#[Q1]. write a code to reverse a string\n",
    "#s = \" \"\n",
    "#reverse_string = s[::-1]"
   ]
  },
  {
   "cell_type": "code",
   "execution_count": 3,
   "id": "208d0c03-06a4-4cb4-8e36-a3cdb6c9da25",
   "metadata": {},
   "outputs": [],
   "source": [
    "#[Q2]. write a code to count the number of vowels in a string ?\n",
    "# count_vowels = 0\n",
    "# variable = input (\"enter any string value : \")\n",
    "# vowels = 'AEIOUaeiou'\n",
    "# for i in variable:\n",
    "# if i in vowels:\n",
    "# count_vowels += 1\n",
    "# print(\"count_vowels\", count_vowels"
   ]
  },
  {
   "cell_type": "code",
   "execution_count": null,
   "id": "a10cd6d8-99d9-46dc-8867-dc7a647205df",
   "metadata": {},
   "outputs": [],
   "source": []
  }
 ],
 "metadata": {
  "kernelspec": {
   "display_name": "Python 3 (ipykernel)",
   "language": "python",
   "name": "python3"
  },
  "language_info": {
   "codemirror_mode": {
    "name": "ipython",
    "version": 3
   },
   "file_extension": ".py",
   "mimetype": "text/x-python",
   "name": "python",
   "nbconvert_exporter": "python",
   "pygments_lexer": "ipython3",
   "version": "3.10.8"
  }
 },
 "nbformat": 4,
 "nbformat_minor": 5
}
